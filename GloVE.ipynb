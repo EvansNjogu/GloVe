{
  "cells": [
    {
      "cell_type": "markdown",
      "metadata": {
        "id": "GwNpilwxqVcd"
      },
      "source": [
        "## Name : **Karoki Evans Njogu**\n",
        "## Neptun : **MFLGTK**\n",
        "## Assignment : **Affective Computing - GloVe**"
      ]
    },
    {
      "cell_type": "markdown",
      "metadata": {
        "id": "0vAiGD2criNy"
      },
      "source": [
        "# Load Dataset"
      ]
    },
    {
      "cell_type": "code",
      "execution_count": 1,
      "metadata": {
        "id": "ffMt_ElNvxfl"
      },
      "outputs": [],
      "source": [
        "import pandas as pd\n",
        "import numpy as np"
      ]
    },
    {
      "cell_type": "code",
      "execution_count": 2,
      "metadata": {
        "colab": {
          "base_uri": "https://localhost:8080/",
          "height": 423
        },
        "id": "cEsJGvlvrkJx",
        "outputId": "702701e1-0dca-4eab-b1a3-f8d0601563a0"
      },
      "outputs": [
        {
          "output_type": "execute_result",
          "data": {
            "text/plain": [
              "                                                  review sentiment\n",
              "0      One of the other reviewers has mentioned that ...  positive\n",
              "1      A wonderful little production. <br /><br />The...  positive\n",
              "2      I thought this was a wonderful way to spend ti...  positive\n",
              "3      Basically there's a family where a little boy ...  negative\n",
              "4      Petter Mattei's \"Love in the Time of Money\" is...  positive\n",
              "...                                                  ...       ...\n",
              "49995  I thought this movie did a down right good job...  positive\n",
              "49996  Bad plot, bad dialogue, bad acting, idiotic di...  negative\n",
              "49997  I am a Catholic taught in parochial elementary...  negative\n",
              "49998  I'm going to have to disagree with the previou...  negative\n",
              "49999  No one expects the Star Trek movies to be high...  negative\n",
              "\n",
              "[50000 rows x 2 columns]"
            ],
            "text/html": [
              "\n",
              "  <div id=\"df-cc42a0b9-e47b-4cb5-a3a8-6f85bc9f3878\" class=\"colab-df-container\">\n",
              "    <div>\n",
              "<style scoped>\n",
              "    .dataframe tbody tr th:only-of-type {\n",
              "        vertical-align: middle;\n",
              "    }\n",
              "\n",
              "    .dataframe tbody tr th {\n",
              "        vertical-align: top;\n",
              "    }\n",
              "\n",
              "    .dataframe thead th {\n",
              "        text-align: right;\n",
              "    }\n",
              "</style>\n",
              "<table border=\"1\" class=\"dataframe\">\n",
              "  <thead>\n",
              "    <tr style=\"text-align: right;\">\n",
              "      <th></th>\n",
              "      <th>review</th>\n",
              "      <th>sentiment</th>\n",
              "    </tr>\n",
              "  </thead>\n",
              "  <tbody>\n",
              "    <tr>\n",
              "      <th>0</th>\n",
              "      <td>One of the other reviewers has mentioned that ...</td>\n",
              "      <td>positive</td>\n",
              "    </tr>\n",
              "    <tr>\n",
              "      <th>1</th>\n",
              "      <td>A wonderful little production. &lt;br /&gt;&lt;br /&gt;The...</td>\n",
              "      <td>positive</td>\n",
              "    </tr>\n",
              "    <tr>\n",
              "      <th>2</th>\n",
              "      <td>I thought this was a wonderful way to spend ti...</td>\n",
              "      <td>positive</td>\n",
              "    </tr>\n",
              "    <tr>\n",
              "      <th>3</th>\n",
              "      <td>Basically there's a family where a little boy ...</td>\n",
              "      <td>negative</td>\n",
              "    </tr>\n",
              "    <tr>\n",
              "      <th>4</th>\n",
              "      <td>Petter Mattei's \"Love in the Time of Money\" is...</td>\n",
              "      <td>positive</td>\n",
              "    </tr>\n",
              "    <tr>\n",
              "      <th>...</th>\n",
              "      <td>...</td>\n",
              "      <td>...</td>\n",
              "    </tr>\n",
              "    <tr>\n",
              "      <th>49995</th>\n",
              "      <td>I thought this movie did a down right good job...</td>\n",
              "      <td>positive</td>\n",
              "    </tr>\n",
              "    <tr>\n",
              "      <th>49996</th>\n",
              "      <td>Bad plot, bad dialogue, bad acting, idiotic di...</td>\n",
              "      <td>negative</td>\n",
              "    </tr>\n",
              "    <tr>\n",
              "      <th>49997</th>\n",
              "      <td>I am a Catholic taught in parochial elementary...</td>\n",
              "      <td>negative</td>\n",
              "    </tr>\n",
              "    <tr>\n",
              "      <th>49998</th>\n",
              "      <td>I'm going to have to disagree with the previou...</td>\n",
              "      <td>negative</td>\n",
              "    </tr>\n",
              "    <tr>\n",
              "      <th>49999</th>\n",
              "      <td>No one expects the Star Trek movies to be high...</td>\n",
              "      <td>negative</td>\n",
              "    </tr>\n",
              "  </tbody>\n",
              "</table>\n",
              "<p>50000 rows × 2 columns</p>\n",
              "</div>\n",
              "    <div class=\"colab-df-buttons\">\n",
              "\n",
              "  <div class=\"colab-df-container\">\n",
              "    <button class=\"colab-df-convert\" onclick=\"convertToInteractive('df-cc42a0b9-e47b-4cb5-a3a8-6f85bc9f3878')\"\n",
              "            title=\"Convert this dataframe to an interactive table.\"\n",
              "            style=\"display:none;\">\n",
              "\n",
              "  <svg xmlns=\"http://www.w3.org/2000/svg\" height=\"24px\" viewBox=\"0 -960 960 960\">\n",
              "    <path d=\"M120-120v-720h720v720H120Zm60-500h600v-160H180v160Zm220 220h160v-160H400v160Zm0 220h160v-160H400v160ZM180-400h160v-160H180v160Zm440 0h160v-160H620v160ZM180-180h160v-160H180v160Zm440 0h160v-160H620v160Z\"/>\n",
              "  </svg>\n",
              "    </button>\n",
              "\n",
              "  <style>\n",
              "    .colab-df-container {\n",
              "      display:flex;\n",
              "      gap: 12px;\n",
              "    }\n",
              "\n",
              "    .colab-df-convert {\n",
              "      background-color: #E8F0FE;\n",
              "      border: none;\n",
              "      border-radius: 50%;\n",
              "      cursor: pointer;\n",
              "      display: none;\n",
              "      fill: #1967D2;\n",
              "      height: 32px;\n",
              "      padding: 0 0 0 0;\n",
              "      width: 32px;\n",
              "    }\n",
              "\n",
              "    .colab-df-convert:hover {\n",
              "      background-color: #E2EBFA;\n",
              "      box-shadow: 0px 1px 2px rgba(60, 64, 67, 0.3), 0px 1px 3px 1px rgba(60, 64, 67, 0.15);\n",
              "      fill: #174EA6;\n",
              "    }\n",
              "\n",
              "    .colab-df-buttons div {\n",
              "      margin-bottom: 4px;\n",
              "    }\n",
              "\n",
              "    [theme=dark] .colab-df-convert {\n",
              "      background-color: #3B4455;\n",
              "      fill: #D2E3FC;\n",
              "    }\n",
              "\n",
              "    [theme=dark] .colab-df-convert:hover {\n",
              "      background-color: #434B5C;\n",
              "      box-shadow: 0px 1px 3px 1px rgba(0, 0, 0, 0.15);\n",
              "      filter: drop-shadow(0px 1px 2px rgba(0, 0, 0, 0.3));\n",
              "      fill: #FFFFFF;\n",
              "    }\n",
              "  </style>\n",
              "\n",
              "    <script>\n",
              "      const buttonEl =\n",
              "        document.querySelector('#df-cc42a0b9-e47b-4cb5-a3a8-6f85bc9f3878 button.colab-df-convert');\n",
              "      buttonEl.style.display =\n",
              "        google.colab.kernel.accessAllowed ? 'block' : 'none';\n",
              "\n",
              "      async function convertToInteractive(key) {\n",
              "        const element = document.querySelector('#df-cc42a0b9-e47b-4cb5-a3a8-6f85bc9f3878');\n",
              "        const dataTable =\n",
              "          await google.colab.kernel.invokeFunction('convertToInteractive',\n",
              "                                                    [key], {});\n",
              "        if (!dataTable) return;\n",
              "\n",
              "        const docLinkHtml = 'Like what you see? Visit the ' +\n",
              "          '<a target=\"_blank\" href=https://colab.research.google.com/notebooks/data_table.ipynb>data table notebook</a>'\n",
              "          + ' to learn more about interactive tables.';\n",
              "        element.innerHTML = '';\n",
              "        dataTable['output_type'] = 'display_data';\n",
              "        await google.colab.output.renderOutput(dataTable, element);\n",
              "        const docLink = document.createElement('div');\n",
              "        docLink.innerHTML = docLinkHtml;\n",
              "        element.appendChild(docLink);\n",
              "      }\n",
              "    </script>\n",
              "  </div>\n",
              "\n",
              "\n",
              "<div id=\"df-2c47f6cd-9b40-4363-aa7a-e0a619173541\">\n",
              "  <button class=\"colab-df-quickchart\" onclick=\"quickchart('df-2c47f6cd-9b40-4363-aa7a-e0a619173541')\"\n",
              "            title=\"Suggest charts\"\n",
              "            style=\"display:none;\">\n",
              "\n",
              "<svg xmlns=\"http://www.w3.org/2000/svg\" height=\"24px\"viewBox=\"0 0 24 24\"\n",
              "     width=\"24px\">\n",
              "    <g>\n",
              "        <path d=\"M19 3H5c-1.1 0-2 .9-2 2v14c0 1.1.9 2 2 2h14c1.1 0 2-.9 2-2V5c0-1.1-.9-2-2-2zM9 17H7v-7h2v7zm4 0h-2V7h2v10zm4 0h-2v-4h2v4z\"/>\n",
              "    </g>\n",
              "</svg>\n",
              "  </button>\n",
              "\n",
              "<style>\n",
              "  .colab-df-quickchart {\n",
              "      --bg-color: #E8F0FE;\n",
              "      --fill-color: #1967D2;\n",
              "      --hover-bg-color: #E2EBFA;\n",
              "      --hover-fill-color: #174EA6;\n",
              "      --disabled-fill-color: #AAA;\n",
              "      --disabled-bg-color: #DDD;\n",
              "  }\n",
              "\n",
              "  [theme=dark] .colab-df-quickchart {\n",
              "      --bg-color: #3B4455;\n",
              "      --fill-color: #D2E3FC;\n",
              "      --hover-bg-color: #434B5C;\n",
              "      --hover-fill-color: #FFFFFF;\n",
              "      --disabled-bg-color: #3B4455;\n",
              "      --disabled-fill-color: #666;\n",
              "  }\n",
              "\n",
              "  .colab-df-quickchart {\n",
              "    background-color: var(--bg-color);\n",
              "    border: none;\n",
              "    border-radius: 50%;\n",
              "    cursor: pointer;\n",
              "    display: none;\n",
              "    fill: var(--fill-color);\n",
              "    height: 32px;\n",
              "    padding: 0;\n",
              "    width: 32px;\n",
              "  }\n",
              "\n",
              "  .colab-df-quickchart:hover {\n",
              "    background-color: var(--hover-bg-color);\n",
              "    box-shadow: 0 1px 2px rgba(60, 64, 67, 0.3), 0 1px 3px 1px rgba(60, 64, 67, 0.15);\n",
              "    fill: var(--button-hover-fill-color);\n",
              "  }\n",
              "\n",
              "  .colab-df-quickchart-complete:disabled,\n",
              "  .colab-df-quickchart-complete:disabled:hover {\n",
              "    background-color: var(--disabled-bg-color);\n",
              "    fill: var(--disabled-fill-color);\n",
              "    box-shadow: none;\n",
              "  }\n",
              "\n",
              "  .colab-df-spinner {\n",
              "    border: 2px solid var(--fill-color);\n",
              "    border-color: transparent;\n",
              "    border-bottom-color: var(--fill-color);\n",
              "    animation:\n",
              "      spin 1s steps(1) infinite;\n",
              "  }\n",
              "\n",
              "  @keyframes spin {\n",
              "    0% {\n",
              "      border-color: transparent;\n",
              "      border-bottom-color: var(--fill-color);\n",
              "      border-left-color: var(--fill-color);\n",
              "    }\n",
              "    20% {\n",
              "      border-color: transparent;\n",
              "      border-left-color: var(--fill-color);\n",
              "      border-top-color: var(--fill-color);\n",
              "    }\n",
              "    30% {\n",
              "      border-color: transparent;\n",
              "      border-left-color: var(--fill-color);\n",
              "      border-top-color: var(--fill-color);\n",
              "      border-right-color: var(--fill-color);\n",
              "    }\n",
              "    40% {\n",
              "      border-color: transparent;\n",
              "      border-right-color: var(--fill-color);\n",
              "      border-top-color: var(--fill-color);\n",
              "    }\n",
              "    60% {\n",
              "      border-color: transparent;\n",
              "      border-right-color: var(--fill-color);\n",
              "    }\n",
              "    80% {\n",
              "      border-color: transparent;\n",
              "      border-right-color: var(--fill-color);\n",
              "      border-bottom-color: var(--fill-color);\n",
              "    }\n",
              "    90% {\n",
              "      border-color: transparent;\n",
              "      border-bottom-color: var(--fill-color);\n",
              "    }\n",
              "  }\n",
              "</style>\n",
              "\n",
              "  <script>\n",
              "    async function quickchart(key) {\n",
              "      const quickchartButtonEl =\n",
              "        document.querySelector('#' + key + ' button');\n",
              "      quickchartButtonEl.disabled = true;  // To prevent multiple clicks.\n",
              "      quickchartButtonEl.classList.add('colab-df-spinner');\n",
              "      try {\n",
              "        const charts = await google.colab.kernel.invokeFunction(\n",
              "            'suggestCharts', [key], {});\n",
              "      } catch (error) {\n",
              "        console.error('Error during call to suggestCharts:', error);\n",
              "      }\n",
              "      quickchartButtonEl.classList.remove('colab-df-spinner');\n",
              "      quickchartButtonEl.classList.add('colab-df-quickchart-complete');\n",
              "    }\n",
              "    (() => {\n",
              "      let quickchartButtonEl =\n",
              "        document.querySelector('#df-2c47f6cd-9b40-4363-aa7a-e0a619173541 button');\n",
              "      quickchartButtonEl.style.display =\n",
              "        google.colab.kernel.accessAllowed ? 'block' : 'none';\n",
              "    })();\n",
              "  </script>\n",
              "</div>\n",
              "    </div>\n",
              "  </div>\n"
            ],
            "application/vnd.google.colaboratory.intrinsic+json": {
              "type": "dataframe",
              "variable_name": "data",
              "summary": "{\n  \"name\": \"data\",\n  \"rows\": 50000,\n  \"fields\": [\n    {\n      \"column\": \"review\",\n      \"properties\": {\n        \"dtype\": \"string\",\n        \"num_unique_values\": 49582,\n        \"samples\": [\n          \"\\\"Soul Plane\\\" is a horrible attempt at comedy that only should appeal people with thick skulls, bloodshot eyes and furry pawns. <br /><br />The plot is not only incoherent but also non-existent, acting is mostly sub sub-par with a gang of highly moronic and dreadful characters thrown in for bad measure, jokes are often spotted miles ahead and almost never even a bit amusing. This movie lacks any structure and is full of racial stereotypes that must have seemed old even in the fifties, the only thing it really has going for it is some pretty ladies, but really, if you want that you can rent something from the \\\"Adult\\\" section. OK?<br /><br />I can hardly see anything here to recommend since you'll probably have a lot a better and productive time chasing rats with a sledgehammer or inventing waterproof teabags or whatever.<br /><br />2/10\",\n          \"Guest from the Future tells a fascinating story of time travel, friendship, battle of good and evil -- all with a small budget, child actors, and few special effects. Something for Spielberg and Lucas to learn from. ;) A sixth-grader Kolya \\\"Nick\\\" Gerasimov finds a time machine in the basement of a decrepit building and travels 100 years into the future. He discovers a near-perfect, utopian society where robots play guitars and write poetry, everyone is kind to each other and people enjoy everything technology has to offer. Alice is the daughter of a prominent scientist who invented a device called Mielophone that allows to read minds of humans and animals. The device can be put to both good and bad use, depending on whose hands it falls into. When two evil space pirates from Saturn who want to rule the universe attempt to steal Mielophone, it falls into the hands of 20th century school boy Nick. With the pirates hot on his tracks, he travels back to his time, followed by the pirates, and Alice. Chaos, confusion and funny situations follow as the luckless pirates try to blend in with the earthlings. Alice enrolls in the same school Nick goes to and demonstrates superhuman abilities in PE class. The catch is, Alice doesn't know what Nick looks like, while the pirates do. Also, the pirates are able to change their appearance and turn literally into anyone. (Hmm, I wonder if this is where James Cameron got the idea for Terminator...) Who gets to Nick -- and Mielophone -- first? Excellent plot, non-stop adventures, and great soundtrack. I wish Hollywood made kid movies like this one...\",\n          \"\\\"National Treasure\\\" (2004) is a thoroughly misguided hodge-podge of plot entanglements that borrow from nearly every cloak and dagger government conspiracy clich\\u00e9 that has ever been written. The film stars Nicholas Cage as Benjamin Franklin Gates (how precious is that, I ask you?); a seemingly normal fellow who, for no other reason than being of a lineage of like-minded misguided fortune hunters, decides to steal a 'national treasure' that has been hidden by the United States founding fathers. After a bit of subtext and background that plays laughably (unintentionally) like Indiana Jones meets The Patriot, the film degenerates into one misguided whimsy after another \\u0096 attempting to create a 'Stanley Goodspeed' regurgitation of Nicholas Cage and launch the whole convoluted mess forward with a series of high octane, but disconnected misadventures.<br /><br />The relevancy and logic to having George Washington and his motley crew of patriots burying a king's ransom someplace on native soil, and then, going through the meticulous plan of leaving clues scattered throughout U.S. currency art work, is something that director Jon Turteltaub never quite gets around to explaining. Couldn't Washington found better usage for such wealth during the start up of the country? Hence, we are left with a mystery built on top of an enigma that is already on shaky ground by the time Ben appoints himself the new custodian of this untold wealth. Ben's intentions are noble \\u0096 if confusing. He's set on protecting the treasure. For who and when?\\u0085your guess is as good as mine.<br /><br />But there are a few problems with Ben's crusade. First up, his friend, Ian Holmes (Sean Bean) decides that he can't wait for Ben to make up his mind about stealing the Declaration of Independence from the National Archives (oh, yeah \\u0096 brilliant idea!). Presumably, the back of that famous document holds the secret answer to the ultimate fortune. So Ian tries to kill Ben. The assassination attempt is, of course, unsuccessful, if overly melodramatic. It also affords Ben the opportunity to pick up, and pick on, the very sultry curator of the archives, Abigail Chase (Diane Kruger). She thinks Ben is clearly a nut \\u0096 at least at the beginning. But true to action/romance form, Abby's resolve melts quicker than you can say, \\\"is that the Hope Diamond?\\\" The film moves into full X-File-ish mode, as the FBI, mistakenly believing that Ben is behind the theft, retaliate in various benign ways that lead to a multi-layering of action sequences reminiscent of Mission Impossible meets The Fugitive. Honestly, don't those guys ever get 'intelligence' information that is correct? In the final analysis, \\\"National Treasure\\\" isn't great film making, so much as it's a patchwork rehash of tired old bits from other movies, woven together from scraps, the likes of which would make IL' Betsy Ross blush.<br /><br />The Buena Vista DVD delivers a far more generous treatment than this film is deserving of. The anamorphic widescreen picture exhibits a very smooth and finely detailed image with very rich colors, natural flesh tones, solid blacks and clean whites. The stylized image is also free of blemishes and digital enhancements. The audio is 5.1 and delivers a nice sonic boom to your side and rear speakers with intensity and realism. Extras include a host of promotional junket material that is rather deep and over the top in its explanation of how and why this film was made. If only, as an audience, we had had more clarification as to why Ben and co. were chasing after an illusive treasure, this might have been one good flick. Extras conclude with the theatrical trailer, audio commentary and deleted scenes. Not for the faint-hearted \\u0096 just the thick-headed.\"\n        ],\n        \"semantic_type\": \"\",\n        \"description\": \"\"\n      }\n    },\n    {\n      \"column\": \"sentiment\",\n      \"properties\": {\n        \"dtype\": \"category\",\n        \"num_unique_values\": 2,\n        \"samples\": [\n          \"negative\",\n          \"positive\"\n        ],\n        \"semantic_type\": \"\",\n        \"description\": \"\"\n      }\n    }\n  ]\n}"
            }
          },
          "metadata": {},
          "execution_count": 2
        }
      ],
      "source": [
        "# Define dataset URL\n",
        "url = \"https://raw.githubusercontent.com/Ankit152/IMDB-sentiment-analysis/master/IMDB-Dataset.csv\"\n",
        "\n",
        "# Load dataset\n",
        "data = pd.read_csv(url)\n",
        "\n",
        "# Display dataset\n",
        "data"
      ]
    },
    {
      "cell_type": "markdown",
      "metadata": {
        "id": "QHsLLx6jugYA"
      },
      "source": [
        "# Data Preprocessing"
      ]
    },
    {
      "cell_type": "code",
      "execution_count": 3,
      "metadata": {
        "colab": {
          "base_uri": "https://localhost:8080/"
        },
        "id": "LrLkYNdztLvf",
        "outputId": "d1b11729-340e-4f4c-eca5-0e9567925103"
      },
      "outputs": [
        {
          "output_type": "stream",
          "name": "stderr",
          "text": [
            "[nltk_data] Downloading package punkt to /root/nltk_data...\n",
            "[nltk_data]   Unzipping tokenizers/punkt.zip.\n",
            "<ipython-input-3-6cdc93263f2f>:16: MarkupResemblesLocatorWarning: The input looks more like a filename than markup. You may want to open this file and pass the filehandle into Beautiful Soup.\n",
            "  text = BeautifulSoup(text, \"html.parser\").get_text()\n"
          ]
        },
        {
          "output_type": "execute_result",
          "data": {
            "text/plain": [
              "['one of the other reviewers has mentioned that after watching just oz episode you ll be hooked they are right as this is exactly what happened with me the first thing that struck me about oz was its brutality and unflinching scenes of violence which set in right from the word go trust me this is not a show for the faint hearted or timid this show pulls no punches with regards to drugs sex or violence its is hardcore in the classic use of the word it is called oz as that is the nickname given to the oswald maximum security state penitentary it focuses mainly on emerald city an experimental section of the prison where all the cells have glass fronts and face inwards so privacy is not high on the agenda em city is home to many aryans muslims gangstas latinos christians italians irish and more so scuffles death stares dodgy dealings and shady agreements are never far away i would say the main appeal of the show is due to the fact that it goes where other shows wouldn t dare forget pretty pictures painted for mainstream audiences forget charm forget romance oz doesn t mess around the first episode i ever saw struck me as so nasty it was surreal i couldn t say i was ready for it but as i watched more i developed a taste for oz and got accustomed to the high levels of graphic violence not just violence but injustice crooked guards who ll be sold out for a nickel inmates who ll kill on order and get away with it well mannered middle class inmates being turned into prison bitches due to their lack of street skills or prison experience watching oz you may become comfortable with what is uncomfortable viewing thats if you can get in touch with your darker side',\n",
              " 'a wonderful little production the filming technique is very unassuming very old time bbc fashion and gives a comforting and sometimes discomforting sense of realism to the entire piece the actors are extremely well chosen michael sheen not only has got all the polari but he has all the voices down pat too you can truly see the seamless editing guided by the references to williams diary entries not only is it well worth the watching but it is a terrificly written and performed piece a masterful production about one of the great master s of comedy and his life the realism really comes home with the little things the fantasy of the guard which rather than use the traditional dream techniques remains solid then disappears it plays on our knowledge and our senses particularly with the scenes concerning orton and halliwell and the sets particularly of their flat with halliwell s murals decorating every surface are terribly well done',\n",
              " 'i thought this was a wonderful way to spend time on a too hot summer weekend sitting in the air conditioned theater and watching a light hearted comedy the plot is simplistic but the dialogue is witty and the characters are likable even the well bread suspected serial killer while some may be disappointed when they realize this is not match point risk addiction i thought it was proof that woody allen is still fully in control of the style many of us have grown to love this was the most i d laughed at one of woody s comedies in years dare i say a decade while i ve never been impressed with scarlet johanson in this she managed to tone down her sexy image and jumped right into a average but spirited young woman this may not be the crown jewel of his career but it was wittier than devil wears prada and more interesting than superman a great comedy to go see with friends',\n",
              " 'basically there s a family where a little boy jake thinks there s a zombie in his closet his parents are fighting all the time this movie is slower than a soap opera and suddenly jake decides to become rambo and kill the zombie ok first of all when you re going to make a film you must decide if its a thriller or a drama as a drama the movie is watchable parents are divorcing arguing like in real life and then we have jake with his closet which totally ruins all the film i expected to see a boogeyman similar movie and instead i watched a drama with some meaningless thriller spots out of just for the well playing parents descent dialogs as for the shots with jake just ignore them',\n",
              " 'petter mattei s love in the time of money is a visually stunning film to watch mr mattei offers us a vivid portrait about human relations this is a movie that seems to be telling us what money power and success do to people in the different situations we encounter this being a variation on the arthur schnitzler s play about the same theme the director transfers the action to the present time new york where all these different characters meet and connect each one is connected in one way or another to the next person but no one seems to know the previous point of contact stylishly the film has a sophisticated luxurious look we are taken to see how these people live and the world they live in their own habitat the only thing one gets out of all these souls in the picture is the different stages of loneliness each one inhabits a big city is not exactly the best place in which human relations find sincere fulfillment as one discerns is the case with most of the people we encounter the acting is good under mr mattei s direction steve buscemi rosario dawson carol kane michael imperioli adrian grenier and the rest of the talented cast make these characters come alive we wish mr mattei good luck and await anxiously for his next work',\n",
              " 'probably my all time favorite movie a story of selflessness sacrifice and dedication to a noble cause but it s not preachy or boring it just never gets old despite my having seen it some or more times in the last years paul lukas performance brings tears to my eyes and bette davis in one of her very few truly sympathetic roles is a delight the kids are as grandma says more like dressed up midgets than children but that only makes them more fun to watch and the mother s slow awakening to what s happening in the world and under her own roof is believable and startling if i had a dozen thumbs they d all be up for this movie',\n",
              " 'i sure would like to see a resurrection of a up dated seahunt series with the tech they have today it would bring back the kid excitement in me i grew up on black and white tv and seahunt with gunsmoke were my hero s every week you have my vote for a comeback of a new sea hunt we need a change of pace in tv and this would work for a world of under water adventure oh by the way thank you for an outlet like this to view many viewpoints about tv and the many movies so any ole way i believe i ve got what i wan na say would be nice to read some more plus points about sea hunt if my rhymes would be lines would you let me submit or leave me out to be in doubt and have me to quit if this is so then i must go so lets do it',\n",
              " 'this show was an amazing fresh innovative idea in the s when it first aired the first or years were brilliant but things dropped off after that by the show was not really funny anymore and it s continued its decline further to the complete waste of time it is today it s truly disgraceful how far this show has fallen the writing is painfully bad the performances are almost as bad if not for the mildly entertaining respite of the guest hosts this show probably wouldn t still be on the air i find it so hard to believe that the same creator that hand selected the original cast also chose the band of hacks that followed how can one recognize such brilliance and then see fit to replace it with such mediocrity i felt i must give stars out of respect for the original cast that made this show such a huge success as it is now the show is just awful i can t believe it s still on the air',\n",
              " 'encouraged by the positive comments about this film on here i was looking forward to watching this film bad mistake i ve seen films and this is truly one of the worst of them it s awful in almost every way editing pacing storyline acting soundtrack the film s only song a lame country tune is played no less than four times the film looks cheap and nasty and is boring in the extreme rarely have i been so happy to see the end credits of a film the only thing that prevents me giving this a score is harvey keitel while this is far from his best performance he at least seems to be making a bit of an effort one for keitel obsessives only',\n",
              " 'if you like original gut wrenching laughter you will like this movie if you are young or old then you will love this movie hell even my mom liked it great camp',\n",
              " 'phil the alien is one of those quirky films where the humour is based around the oddness of everything rather than actual punchlines at first it was very odd and pretty funny but as the movie progressed i didn t find the jokes or oddness funny anymore its a low budget film thats never a problem in itself there were some pretty interesting characters but eventually i just lost interest i imagine this film would appeal to a stoner who is currently partaking for something similar but better try brother from another planet',\n",
              " 'i saw this movie when i was about when it came out i recall the scariest scene was the big bird eating men dangling helplessly from parachutes right out of the air the horror the horror as a young kid going to these cheesy b films on saturday afternoons i still was tired of the formula for these monster type movies that usually included the hero a beautiful woman who might be the daughter of a professor and a happy resolution when the monster died in the end i didn t care much for the romantic angle as a year old and the predictable plots i love them now for the unintentional humor but about a year or so later i saw psycho when it came out and i loved that the star janet leigh was bumped off early in the film i sat up and took notice at that point since screenwriters are making up the story make it up to be as scary as possible and not from a well worn formula there are no rules',\n",
              " 'so im not a big fan of boll s work but then again not many are i enjoyed his movie postal maybe im the only one boll apparently bought the rights to use far cry long ago even before the game itself was even finsished people who have enjoyed killing mercs and infiltrating secret research labs located on a tropical island should be warned that this is not far cry this is something mr boll have schemed together along with his legion of schmucks feeling loneley on the set mr boll invites three of his countrymen to play with these players go by the names of til schweiger udo kier and ralf moeller three names that actually have made them selfs pretty big in the movie biz so the tale goes like this jack carver played by til schweiger yes carver is german all hail the bratwurst eating dudes however i find that tils acting in this movie is pretty badass people have complained about how he s not really staying true to the whole carver agenda but we only saw carver in a first person perspective so we don t really know what he looked like when he was kicking a however the storyline in this film is beyond demented we see the evil mad scientist dr krieger played by udo kier making genetically mutated soldiers or gms as they are called performing his top secret research on an island that reminds me of spoiler vancouver for some reason thats right no palm trees here instead we got some nice rich lumberjack woods we haven t even gone far before i started to cry mehehe i can not go on any more if you wan na stay true to bolls shenanigans then go and see this movie you will not be disappointed it delivers the true boll experience meaning most of it will suck there are some things worth mentioning that would imply that boll did a good work on some areas of the film such as some nice boat and fighting scenes until the whole cromed albino gms squad enters the scene and everything just makes me laugh the movie far cry reeks of scheisse that s poop for you simpletons from a fa r if you wan na take a wiff go ahead btw carver gets a very annoying sidekick who makes you wan na shoot him the first three minutes he s on screen',\n",
              " 'the cast played shakespeare shakespeare lost i appreciate that this is trying to bring shakespeare to the masses but why ruin something so good is it because the scottish play is my favorite shakespeare i do not know what i do know is that a certain rev bowdler hence bowdlerization tried to do something similar in the victorian era in other words you can not improve perfection i have no more to write but as i have to write at least ten lines of text and english composition was never my forte i will just have to keep going and say that this movie as the saying goes just does not cut it',\n",
              " 'this a fantastic movie of three prisoners who become famous one of the actors is george clooney and i m not a fan but this roll is not bad another good thing about the movie is the soundtrack the man of constant sorrow i recommand this movie to everybody greetings bart',\n",
              " 'kind of drawn in by the erotic scenes only to realize this was one of the most amateurish and unbelievable bits of film i ve ever seen sort of like a high school film project what was rosanna arquette thinking and what was with all those stock characters in that bizarre supposed midwest town pretty hard to get involved with this one no lessons to be learned from it no brilliant insights just stilted and quite ridiculous but lots of skin if that intrigues you videotaped nonsense what was with the bisexual relationship out of nowhere after all the heterosexual encounters and what was with that absurd dance with everybody playing their stereotyped roles give this one a pass it s like a million other miles of bad wasted film money that could have been spent on starving children or aids in africa',\n",
              " 'some films just simply should not be remade this is one of them in and of itself it is not a bad film but it fails to capture the flavor and the terror of the film of the same title liam neeson was excellent as he always is and most of the cast holds up with the exception of owen wilson who just did not bring the right feel to the character of luke but the major fault with this version is that it strayed too far from the shirley jackson story in it s attempts to be grandiose and lost some of the thrill of the earlier film in a trade off for snazzier special effects again i will say that in and of itself it is not a bad film but you will enjoy the friction of terror in the older version much more',\n",
              " 'this movie made it into one of my top most awful movies horrible there wasn t a continuous minute where there wasn t a fight with one monster or another there was no chance for any character development they were too busy running from one sword fight to another i had no emotional attachment except to the big bad machine that wanted to destroy them scenes were blatantly stolen from other movies lotr star wars and matrix examples the ghost scene at the end was stolen from the final scene of the old star wars with yoda obee one and vader the spider machine in the beginning was exactly like frodo being attacked by the spider in return of the kings elijah wood is the victim in both films and wait it hypnotizes stings its victim and wraps them up uh hello and the whole machine vs humans theme was the matrix or terminator there are more examples but why waste the time and will someone tell me what was with the nazi s nazi s there was a juvenile story line rushed to a juvenile conclusion the movie could not decide if it was a children s movie or an adult movie and wasn t much of either just awful a real disappointment to say the least save your money',\n",
              " 'i remember this film it was the first film i had watched at the cinema the picture was dark in places i was very nervous it was back in my dad took me my brother sister to newbury cinema in newbury berkshire england i recall the tigers and the lots of snow in the film also the appearance of grizzly adams actor dan haggery i think one of the tigers gets shot and dies if anyone knows where to find this on dvd etc please let me know the cinema now has been turned in a fitness club which is a very big shame as the nearest cinema now is miles away would love to hear from others who have seen this film or any other like it',\n",
              " 'an awful film it must have been up against some real stinkers to be nominated for the golden globe they ve taken the story of the first famous female renaissance painter and mangled it beyond recognition my complaint is not that they ve taken liberties with the facts if the story were good that would perfectly fine but it s simply bizarre by all accounts the true story of this artist would have made for a far better film so why did they come up with this dishwater dull script i suppose there weren t enough naked people in the factual version it s hurriedly capped off in the end with a summary of the artist s life we could have saved ourselves a couple of hours if they d favored the rest of the film with same brevity']"
            ]
          },
          "metadata": {},
          "execution_count": 3
        }
      ],
      "source": [
        "import re\n",
        "import nltk\n",
        "from bs4 import BeautifulSoup\n",
        "from nltk.tokenize import word_tokenize\n",
        "from nltk.corpus import stopwords\n",
        "from nltk.stem.porter import PorterStemmer\n",
        "\n",
        "# Ensure the necessary NLTK components are downloaded\n",
        "nltk.download('punkt')\n",
        "\n",
        "# Function to clean a list of text\n",
        "def clean_text(text_list):\n",
        "    cleaned_text_list = []\n",
        "    for text in text_list:\n",
        "        text = text.lower()\n",
        "        text = BeautifulSoup(text, \"html.parser\").get_text()\n",
        "        text = re.sub(r'\\W+', ' ', text)\n",
        "        text = re.sub(r'http\\S+', '', text)\n",
        "        text = re.sub('[^A-Za-z0-9]+', ' ', text)\n",
        "        tokens = word_tokenize(text)\n",
        "        tokens = [word for word in tokens if word.isalpha()]\n",
        "        cleaned_text = ' '.join(tokens)\n",
        "        cleaned_text_list.append(cleaned_text)\n",
        "    return cleaned_text_list\n",
        "\n",
        "all_reviews = clean_text(data['review'])\n",
        "\n",
        "# First 20 cleaned reviews\n",
        "all_reviews[:20]"
      ]
    },
    {
      "cell_type": "markdown",
      "metadata": {
        "id": "zVksNelq5bkN"
      },
      "source": [
        "# Working with GloVe Embeddings"
      ]
    },
    {
      "cell_type": "code",
      "execution_count": 4,
      "metadata": {
        "colab": {
          "base_uri": "https://localhost:8080/"
        },
        "id": "pSH5c64y83oc",
        "outputId": "a0049692-eb0f-4683-ba2d-6ec33abcc05b"
      },
      "outputs": [
        {
          "output_type": "stream",
          "name": "stdout",
          "text": [
            "Mounted at /content/drive\n"
          ]
        }
      ],
      "source": [
        "from google.colab import drive\n",
        "drive.mount('/content/drive')"
      ]
    },
    {
      "cell_type": "code",
      "execution_count": 5,
      "metadata": {
        "id": "km67qCP2zXTM"
      },
      "outputs": [],
      "source": [
        "# Load GloVe embeddings\n",
        "def load_glove_embeddings(path):\n",
        "    embeddings_dict = {}\n",
        "    with open(path, 'r', encoding='utf-8') as f:\n",
        "        for line in f:\n",
        "            values = line.split()\n",
        "            word = values[0]\n",
        "            vector = np.asarray(values[1:], \"float32\")\n",
        "            embeddings_dict[word] = vector\n",
        "    return embeddings_dict"
      ]
    },
    {
      "cell_type": "code",
      "execution_count": 6,
      "metadata": {
        "id": "rYYt53xZ6Keo"
      },
      "outputs": [],
      "source": [
        "# Set the path to the GloVe file\n",
        "glove_path = '/content/drive/MyDrive/glove.42B.300d.txt'\n",
        "glove_embeddings = load_glove_embeddings(glove_path)\n",
        "\n",
        "# Create an average vector for a review\n",
        "def review_to_vector(review, embeddings_dict, vector_size):\n",
        "    review_vector = np.zeros(vector_size, dtype=\"float32\")\n",
        "    words_count = 0\n",
        "\n",
        "    for word in review.split():\n",
        "        if word in embeddings_dict:\n",
        "            review_vector += embeddings_dict[word]\n",
        "            words_count += 1\n",
        "\n",
        "    if words_count > 0:\n",
        "        review_vector /= words_count\n",
        "    return review_vector\n",
        "\n",
        "\n",
        "vector_size = 300\n",
        "\n",
        "# Create vectors for all reviews\n",
        "review_vectors = np.array([review_to_vector(review, glove_embeddings, vector_size) for review in all_reviews])"
      ]
    },
    {
      "cell_type": "code",
      "execution_count": 7,
      "metadata": {
        "colab": {
          "base_uri": "https://localhost:8080/",
          "height": 545
        },
        "id": "TIFvjaAoc9_t",
        "outputId": "da0966c2-945f-48d0-9a93-660a9929dac9"
      },
      "outputs": [
        {
          "output_type": "display_data",
          "data": {
            "text/plain": [
              "<Figure size 600x600 with 1 Axes>"
            ],
            "image/png": "[encoded data removed]"
          },
          "metadata": {}
        }
      ],
      "source": [
        "from sklearn.manifold import TSNE\n",
        "import matplotlib.pyplot as plt\n",
        "import numpy as np\n",
        "\n",
        "# Define your own list of words to visualize\n",
        "words_to_visualize = [\"excellent\", \"poor\", \"great\", \"terrible\", \"funny\", \"boring\"]\n",
        "\n",
        "# Filter the list to only include words found in the GloVe embeddings\n",
        "words_in_glove = [word for word in words_to_visualize if word in glove_embeddings]\n",
        "\n",
        "# Extract the vectors for the filtered words\n",
        "word_vectors = np.array([glove_embeddings[word] for word in words_in_glove])\n",
        "\n",
        "# Perform t-SNE\n",
        "tsne = TSNE(n_components=2, perplexity=len(words_in_glove)/3, random_state=0)\n",
        "word_vectors_reduced = tsne.fit_transform(word_vectors)\n",
        "\n",
        "# Plot\n",
        "plt.figure(figsize=(6, 6))\n",
        "for i, word in enumerate(words_in_glove):\n",
        "    plt.scatter(word_vectors_reduced[i, 0], word_vectors_reduced[i, 1])\n",
        "    plt.annotate(word, xy=(word_vectors_reduced[i, 0], word_vectors_reduced[i, 1]), xytext=(2, 2), textcoords='offset points')\n",
        "\n",
        "plt.title('t-SNE visualization of selected word embeddings')\n",
        "plt.show()"
      ]
    },
    {
      "cell_type": "markdown",
      "metadata": {
        "id": "inySs24SKJj_"
      },
      "source": [
        "# Prepare Data for Model"
      ]
    },
    {
      "cell_type": "code",
      "execution_count": 8,
      "metadata": {
        "colab": {
          "base_uri": "https://localhost:8080/",
          "height": 472
        },
        "id": "M9A0GMkmIXqc",
        "outputId": "44c8277b-d1a7-482c-d567-164d5fbe0d19"
      },
      "outputs": [
        {
          "output_type": "display_data",
          "data": {
            "text/plain": [
              "<Figure size 640x480 with 1 Axes>"
            ],
            "image/png": "[encoded data removed]"
          },
          "metadata": {}
        }
      ],
      "source": [
        "import matplotlib.pyplot as plt\n",
        "\n",
        "review_lengths = [len(review.split()) for review in all_reviews]\n",
        "\n",
        "# Plot distribution of review lengths\n",
        "plt.hist(review_lengths, bins=30)\n",
        "plt.title('Distribution of Review Lengths')\n",
        "plt.xlabel('Length of Reviews')\n",
        "plt.ylabel('Number of Reviews')\n",
        "plt.show()"
      ]
    },
    {
      "cell_type": "code",
      "execution_count": 9,
      "metadata": {
        "colab": {
          "base_uri": "https://localhost:8080/"
        },
        "id": "UMFuO0UHODIw",
        "outputId": "5c61ae39-86b4-4422-e62d-8ebd8cf04de9"
      },
      "outputs": [
        {
          "output_type": "stream",
          "name": "stdout",
          "text": [
            "Chosen max_length: 376\n"
          ]
        }
      ],
      "source": [
        "# Choose max_length that covers most data, using percentile\n",
        "max_length = int(np.percentile(review_lengths, 85))\n",
        "print(f\"Chosen max_length: {max_length}\")"
      ]
    },
    {
      "cell_type": "code",
      "execution_count": 10,
      "metadata": {
        "id": "Wn1TwhtKLAoV"
      },
      "outputs": [],
      "source": [
        "from tensorflow.keras.preprocessing.sequence import pad_sequences\n",
        "from tensorflow.keras.preprocessing.text import Tokenizer\n",
        "from tensorflow.keras.utils import to_categorical\n",
        "from sklearn.model_selection import train_test_split\n",
        "\n",
        "# Tokenize text\n",
        "tokenizer = Tokenizer()\n",
        "tokenizer.fit_on_texts(all_reviews)\n",
        "sequences = tokenizer.texts_to_sequences(all_reviews)\n",
        "\n",
        "# Pad sequences\n",
        "padded_sequences = pad_sequences(sequences, maxlen=max_length, padding='pre')\n",
        "\n",
        "# Convert labels to classes\n",
        "labels = data['sentiment'].map({'positive': 1, 'negative': 0}).values\n",
        "\n",
        "\n",
        "# Split data\n",
        "X_train, X_test, y_train, y_test = train_test_split(padded_sequences, labels, test_size=0.2, random_state=42)"
      ]
    },
    {
      "cell_type": "markdown",
      "metadata": {
        "id": "rKjlqSpER2W2"
      },
      "source": [
        "# Model"
      ]
    },
    {
      "cell_type": "code",
      "execution_count": 11,
      "metadata": {
        "colab": {
          "base_uri": "https://localhost:8080/"
        },
        "id": "5dekwoNBMk4q",
        "outputId": "3d4f725f-df1a-4ccb-ea6f-2999ce24e557"
      },
      "outputs": [
        {
          "output_type": "stream",
          "name": "stdout",
          "text": [
            "Model: \"sequential\"\n",
            "_________________________________________________________________\n",
            " Layer (type)                Output Shape              Param #   \n",
            "=================================================================\n",
            " embedding (Embedding)       (None, 376, 300)          30384000  \n",
            "                                                                 \n",
            " spatial_dropout1d (Spatial  (None, 376, 300)          0         \n",
            " Dropout1D)                                                      \n",
            "                                                                 \n",
            " lstm (LSTM)                 (None, 376, 64)           93440     \n",
            "                                                                 \n",
            " dropout (Dropout)           (None, 376, 64)           0         \n",
            "                                                                 \n",
            " lstm_1 (LSTM)               (None, 32)                12416     \n",
            "                                                                 \n",
            " dropout_1 (Dropout)         (None, 32)                0         \n",
            "                                                                 \n",
            " dense (Dense)               (None, 1)                 33        \n",
            "                                                                 \n",
            "=================================================================\n",
            "Total params: 30489889 (116.31 MB)\n",
            "Trainable params: 105889 (413.63 KB)\n",
            "Non-trainable params: 30384000 (115.91 MB)\n",
            "_________________________________________________________________\n"
          ]
        }
      ],
      "source": [
        "from tensorflow.keras.models import Sequential\n",
        "from tensorflow.keras.layers import Embedding, LSTM, Dense, Dropout, SpatialDropout1D\n",
        "\n",
        "# Define LSTM model\n",
        "model = Sequential()\n",
        "\n",
        "num_words = len(tokenizer.word_index) + 1\n",
        "embedding_dim = vector_size\n",
        "\n",
        "# Initialize embedding matrix with zeros\n",
        "embedding_matrix = np.zeros((num_words, embedding_dim))\n",
        "\n",
        "\n",
        "for word, index in tokenizer.word_index.items():\n",
        "    vector = glove_embeddings.get(word)\n",
        "    if vector is not None:\n",
        "        embedding_matrix[index] = vector\n",
        "\n",
        "\n",
        "model.add(Embedding(input_dim=embedding_matrix.shape[0],\n",
        "                    output_dim=embedding_matrix.shape[1],\n",
        "                    weights=[embedding_matrix],\n",
        "                    input_length=max_length,\n",
        "                    trainable=False))\n",
        "\n",
        "model.add(SpatialDropout1D(0.2))\n",
        "model.add(LSTM(64, return_sequences=True))\n",
        "model.add(Dropout(0.2))\n",
        "model.add(LSTM(32))\n",
        "model.add(Dropout(0.2))\n",
        "model.add(Dense(1, activation='sigmoid'))\n",
        "\n",
        "# Compile the model\n",
        "model.compile(optimizer='adam', loss='binary_crossentropy', metrics=['accuracy'])\n",
        "\n",
        "# Model summary\n",
        "model.summary()"
      ]
    },
    {
      "cell_type": "markdown",
      "metadata": {
        "id": "_3GwkSIOR5YY"
      },
      "source": [
        "# Model Training"
      ]
    },
    {
      "cell_type": "code",
      "execution_count": 12,
      "metadata": {
        "colab": {
          "base_uri": "https://localhost:8080/"
        },
        "id": "cNN7pWDaNjBy",
        "outputId": "d7ebe997-e10e-4eda-c407-eea455e83675"
      },
      "outputs": [
        {
          "output_type": "stream",
          "name": "stdout",
          "text": [
            "Epoch 1/20\n",
            "282/282 [==============================] - 414s 1s/step - loss: 0.5316 - accuracy: 0.7366 - val_loss: 0.4040 - val_accuracy: 0.8263\n",
            "Epoch 2/20\n",
            "282/282 [==============================] - 408s 1s/step - loss: 0.3600 - accuracy: 0.8469 - val_loss: 0.2912 - val_accuracy: 0.8752\n",
            "Epoch 3/20\n",
            "282/282 [==============================] - 405s 1s/step - loss: 0.3097 - accuracy: 0.8724 - val_loss: 0.2791 - val_accuracy: 0.8882\n",
            "Epoch 4/20\n",
            "282/282 [==============================] - 421s 1s/step - loss: 0.2829 - accuracy: 0.8838 - val_loss: 0.2553 - val_accuracy: 0.8955\n",
            "Epoch 5/20\n",
            "282/282 [==============================] - 439s 2s/step - loss: 0.2692 - accuracy: 0.8906 - val_loss: 0.2584 - val_accuracy: 0.8988\n",
            "Epoch 6/20\n",
            "282/282 [==============================] - 433s 2s/step - loss: 0.2538 - accuracy: 0.8984 - val_loss: 0.2496 - val_accuracy: 0.9043\n",
            "Epoch 7/20\n",
            "282/282 [==============================] - 432s 2s/step - loss: 0.2483 - accuracy: 0.9001 - val_loss: 0.2350 - val_accuracy: 0.9038\n",
            "Epoch 8/20\n",
            "282/282 [==============================] - 433s 2s/step - loss: 0.2337 - accuracy: 0.9060 - val_loss: 0.2330 - val_accuracy: 0.9055\n",
            "Epoch 9/20\n",
            "282/282 [==============================] - 434s 2s/step - loss: 0.2274 - accuracy: 0.9094 - val_loss: 0.2286 - val_accuracy: 0.9062\n",
            "Epoch 10/20\n",
            "282/282 [==============================] - 434s 2s/step - loss: 0.2184 - accuracy: 0.9139 - val_loss: 0.2374 - val_accuracy: 0.9070\n",
            "Epoch 11/20\n",
            "282/282 [==============================] - 438s 2s/step - loss: 0.2079 - accuracy: 0.9171 - val_loss: 0.2463 - val_accuracy: 0.9015\n",
            "Epoch 12/20\n",
            "282/282 [==============================] - 433s 2s/step - loss: 0.2001 - accuracy: 0.9222 - val_loss: 0.2316 - val_accuracy: 0.9097\n",
            "Epoch 13/20\n",
            "282/282 [==============================] - 454s 2s/step - loss: 0.1892 - accuracy: 0.9269 - val_loss: 0.2341 - val_accuracy: 0.9143\n",
            "Epoch 14/20\n",
            "282/282 [==============================] - 434s 2s/step - loss: 0.1792 - accuracy: 0.9314 - val_loss: 0.2330 - val_accuracy: 0.9130\n",
            "313/313 [==============================] - 68s 219ms/step - loss: 0.2285 - accuracy: 0.9031\n",
            "Test Loss: 0.22854839265346527\n",
            "Test Accuracy: 0.9031000137329102\n"
          ]
        }
      ],
      "source": [
        "from tensorflow.keras.callbacks import EarlyStopping\n",
        "\n",
        "# Define EarlyStopping callback\n",
        "early_stopping = EarlyStopping(monitor='val_loss', patience=5, restore_best_weights=True)\n",
        "\n",
        "# Train model\n",
        "history = model.fit(X_train, y_train,\n",
        "                    epochs=20,\n",
        "                    batch_size=128,\n",
        "                    validation_split=0.1,\n",
        "                    callbacks=[early_stopping])\n",
        "\n",
        "# Evaluate model on the test set\n",
        "test_metrics = model.evaluate(X_test, y_test)\n",
        "\n",
        "# Output evaluation results\n",
        "print(f\"Test Loss: {test_metrics[0]}\")\n",
        "print(f\"Test Accuracy: {test_metrics[1]}\")"
      ]
    },
    {
      "cell_type": "code",
      "execution_count": 13,
      "metadata": {
        "colab": {
          "base_uri": "https://localhost:8080/",
          "height": 927
        },
        "id": "wn8Y0XKaSFR3",
        "outputId": "e9db8abe-a3b1-4db8-fdfe-90004a85752c"
      },
      "outputs": [
        {
          "output_type": "display_data",
          "data": {
            "text/plain": [
              "<Figure size 640x480 with 1 Axes>"
            ],
            "image/png": "[encoded data removed]"
          },
          "metadata": {}
        },
        {
          "output_type": "display_data",
          "data": {
            "text/plain": [
              "<Figure size 640x480 with 1 Axes>"
            ],
            "image/png": "[encoded data removed]"
          },
          "metadata": {}
        }
      ],
      "source": [
        "# Plot training & validation accuracy values\n",
        "plt.plot(history.history['accuracy'])\n",
        "plt.plot(history.history['val_accuracy'])\n",
        "plt.title('Model accuracy')\n",
        "plt.ylabel('Accuracy')\n",
        "plt.xlabel('Epoch')\n",
        "plt.legend(['Train', 'Val'], loc='upper left')\n",
        "plt.show()\n",
        "\n",
        "# Plot training & validation loss values\n",
        "plt.plot(history.history['loss'])\n",
        "plt.plot(history.history['val_loss'])\n",
        "plt.title('Model loss')\n",
        "plt.ylabel('Loss')\n",
        "plt.xlabel('Epoch')\n",
        "plt.legend(['Train', 'Val'], loc='upper left')\n",
        "plt.show()"
      ]
    },
    {
      "cell_type": "markdown",
      "metadata": {
        "id": "d2icBqKfZe8t"
      },
      "source": [
        "# Model Evaluation"
      ]
    },
    {
      "cell_type": "code",
      "execution_count": 14,
      "metadata": {
        "colab": {
          "base_uri": "https://localhost:8080/"
        },
        "id": "1sutYsDnW0nd",
        "outputId": "03f04370-3057-4022-f173-e6273e16a0d9"
      },
      "outputs": [
        {
          "output_type": "stream",
          "name": "stdout",
          "text": [
            "313/313 [==============================] - 73s 229ms/step\n",
            "Accuracy: 0.9031\n",
            "Precision: 0.8971506635441062\n",
            "Recall: 0.9122841833697162\n",
            "F1 Score: 0.9046541375578078\n"
          ]
        }
      ],
      "source": [
        "from sklearn.metrics import accuracy_score, precision_score, recall_score, f1_score\n",
        "\n",
        "# Predictions\n",
        "y_pred = model.predict(X_test)\n",
        "\n",
        "# Threshold predictions for binary classification\n",
        "y_pred = (y_pred > 0.5).astype(int)\n",
        "\n",
        "# Calculate metrics\n",
        "accuracy = accuracy_score(y_test, y_pred)\n",
        "precision = precision_score(y_test, y_pred)\n",
        "recall = recall_score(y_test, y_pred)\n",
        "f1 = f1_score(y_test, y_pred)\n",
        "\n",
        "# Print metrics\n",
        "print(f'Accuracy: {accuracy}')\n",
        "print(f'Precision: {precision}')\n",
        "print(f'Recall: {recall}')\n",
        "print(f'F1 Score: {f1}')"
      ]
    },
    {
      "cell_type": "markdown",
      "metadata": {
        "id": "A-MM1nmwcz58"
      },
      "source": [
        "# Predictions"
      ]
    },
    {
      "cell_type": "code",
      "execution_count": 15,
      "metadata": {
        "colab": {
          "base_uri": "https://localhost:8080/"
        },
        "id": "Ngye9G8hbQD-",
        "outputId": "e6107b30-63a9-4b3b-f40f-aff4d5b80e19"
      },
      "outputs": [
        {
          "output_type": "stream",
          "name": "stdout",
          "text": [
            "1/1 [==============================] - 0s 152ms/step\n",
            "Sentiment: negative, Confidence: 0.3247\n",
            "1/1 [==============================] - 0s 196ms/step\n",
            "Sentiment: positive, Confidence: 0.9705\n"
          ]
        }
      ],
      "source": [
        "def predict_sentiment(text, tokenizer, model, max_length):\n",
        "    # Clean text\n",
        "    cleaned_text = clean_text([text])\n",
        "    # Tokenize text\n",
        "    sequence = tokenizer.texts_to_sequences(cleaned_text)\n",
        "    # Pad sequences\n",
        "    padded_sequence = pad_sequences(sequence, maxlen=max_length, padding='pre')\n",
        "    # Predict\n",
        "    prediction = model.predict(padded_sequence)\n",
        "\n",
        "    # Access the 1st element of prediction array & convert\n",
        "    confidence = float(prediction[0][0])\n",
        "\n",
        "    if prediction >= 0.5:\n",
        "        return \"positive\", confidence\n",
        "    else:\n",
        "        return \"negative\", confidence\n",
        "\n",
        "# Usage\n",
        "sample_review1 = \"The movie was not great. I really expected action but there was none of that!\"\n",
        "sentiment, confidence = predict_sentiment(sample_review1, tokenizer, model, max_length)\n",
        "print(f\"Sentiment: {sentiment}, Confidence: {confidence:.4f}\")\n",
        "\n",
        "sample_review2 = \"This film was a joy to watch. Brilliant acting and a compelling story!\"\n",
        "sentiment, confidence = predict_sentiment(sample_review2, tokenizer, model, max_length)\n",
        "print(f\"Sentiment: {sentiment}, Confidence: {confidence:.4f}\")"
      ]
    },
    {
      "cell_type": "code",
      "source": [],
      "metadata": {
        "id": "soY1XD1x46ie"
      },
      "execution_count": null,
      "outputs": []
    }
  ],
  "metadata": {
    "colab": {
      "provenance": []
    },
    "kernelspec": {
      "display_name": "Python 3 (ipykernel)",
      "language": "python",
      "name": "python3"
    },
    "language_info": {
      "codemirror_mode": {
        "name": "ipython",
        "version": 3
      },
      "file_extension": ".py",
      "mimetype": "text/x-python",
      "name": "python",
      "nbconvert_exporter": "python",
      "pygments_lexer": "ipython3",
      "version": "3.10.2"
    }
  },
  "nbformat": 4,
  "nbformat_minor": 0
}